{
  "nbformat": 4,
  "nbformat_minor": 0,
  "metadata": {
    "colab": {
      "provenance": []
    },
    "kernelspec": {
      "name": "python3",
      "display_name": "Python 3"
    },
    "language_info": {
      "name": "python"
    }
  },
  "cells": [
    {
      "cell_type": "code",
      "execution_count": 6,
      "metadata": {
        "id": "lpL8YePPCB4C",
        "colab": {
          "base_uri": "https://localhost:8080/"
        },
        "outputId": "ac2849a2-ec33-490f-9eb6-6b5b30cc297c"
      },
      "outputs": [
        {
          "output_type": "stream",
          "name": "stdout",
          "text": [
            "a行列\n",
            "[[0 1]\n",
            " [2 3]\n",
            " [4 5]]\n",
            "b行列\n",
            "[[0 1 2 3]\n",
            " [4 5 6 7]]\n",
            "a,bの行列積\n"
          ]
        },
        {
          "output_type": "execute_result",
          "data": {
            "text/plain": [
              "array([[ 4,  5,  6,  7],\n",
              "       [12, 17, 22, 27],\n",
              "       [20, 29, 38, 47]])"
            ]
          },
          "metadata": {},
          "execution_count": 6
        }
      ],
      "source": [
        "import numpy as np\n",
        "\n",
        "a = np.arange(6).reshape(3, 2)\n",
        "print(\"a行列\")\n",
        "print(a)\n",
        "\n",
        "b = np.arange(8).reshape(2, 4)\n",
        "print(\"b行列\")\n",
        "print(b)\n",
        "\n",
        "product = np.dot(a, b)\n",
        "print(\"a,bの行列積\")\n",
        "product"
      ]
    }
  ]
}