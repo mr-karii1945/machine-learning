{
  "nbformat": 4,
  "nbformat_minor": 0,
  "metadata": {
    "colab": {
      "provenance": []
    },
    "kernelspec": {
      "name": "python3",
      "display_name": "Python 3"
    },
    "language_info": {
      "name": "python"
    }
  },
  "cells": [
    {
      "cell_type": "code",
      "execution_count": 1,
      "metadata": {
        "id": "lpL8YePPCB4C",
        "colab": {
          "base_uri": "https://localhost:8080/"
        },
        "outputId": "6724f205-baec-46a7-e85d-2fc96be515fc"
      },
      "outputs": [
        {
          "output_type": "stream",
          "name": "stdout",
          "text": [
            "a行列\n",
            "[[0 1]\n",
            " [2 3]\n",
            " [4 5]]\n",
            "b行列\n",
            "[[0 1 2 3]\n",
            " [4 5 6 7]]\n",
            "a,bの行列積\n"
          ]
        },
        {
          "output_type": "execute_result",
          "data": {
            "text/plain": [
              "array([[ 4,  5,  6,  7],\n",
              "       [12, 17, 22, 27],\n",
              "       [20, 29, 38, 47]])"
            ]
          },
          "metadata": {},
          "execution_count": 1
        }
      ],
      "source": [
        "import numpy as np\n",
        "\n",
        "a = np.arange(6).reshape(3, 2)\n",
        "print(\"a行列\")\n",
        "print(a)\n",
        "\n",
        "b = np.arange(8).reshape(2, 4)\n",
        "print(\"b行列\")\n",
        "print(b)\n",
        "\n",
        "product = np.dot(a, b)\n",
        "print(\"a,bの行列積\")\n",
        "product"
      ]
    },
    {
      "cell_type": "code",
      "source": [
        "product.max()"
      ],
      "metadata": {
        "id": "Pf6erU_68Nu1",
        "outputId": "be2da12e-4186-420d-9987-2d4f15bb69fa",
        "colab": {
          "base_uri": "https://localhost:8080/"
        }
      },
      "execution_count": 2,
      "outputs": [
        {
          "output_type": "execute_result",
          "data": {
            "text/plain": [
              "47"
            ]
          },
          "metadata": {},
          "execution_count": 2
        }
      ]
    }
  ]
}